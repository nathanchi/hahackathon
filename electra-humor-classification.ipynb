{
  "nbformat": 4,
  "nbformat_minor": 0,
  "metadata": {
    "accelerator": "GPU",
    "colab": {
      "name": "ELECTRA Large HaHackathon Final.ipynb",
      "provenance": [],
      "collapsed_sections": []
    },
    "kernelspec": {
      "display_name": "Python 3.7.6 64-bit ('fastai': conda)",
      "language": "python",
      "name": "python37664bitfastaiconda149f4ca18fae45818735beadf08062d0"
    },
    "language_info": {
      "codemirror_mode": {
        "name": "ipython",
        "version": 3
      },
      "file_extension": ".py",
      "mimetype": "text/x-python",
      "name": "python",
      "nbconvert_exporter": "python",
      "pygments_lexer": "ipython3",
      "version": "3.7.7"
    },
    "widgets": {
      "application/vnd.jupyter.widget-state+json": {
        "6165bb68a45348e9b2a96f4314ea52fd": {
          "model_module": "@jupyter-widgets/controls",
          "model_name": "HBoxModel",
          "state": {
            "_view_name": "HBoxView",
            "_dom_classes": [],
            "_model_name": "HBoxModel",
            "_view_module": "@jupyter-widgets/controls",
            "_model_module_version": "1.5.0",
            "_view_count": null,
            "_view_module_version": "1.5.0",
            "box_style": "",
            "layout": "IPY_MODEL_78d9b21cc06e4ff3b02f057ccc3dd329",
            "_model_module": "@jupyter-widgets/controls",
            "children": [
              "IPY_MODEL_ea6145cde46d49788d2bcd5ada1408d5",
              "IPY_MODEL_f6f3516347ee4179a91778f6aba44523"
            ]
          }
        },
        "78d9b21cc06e4ff3b02f057ccc3dd329": {
          "model_module": "@jupyter-widgets/base",
          "model_name": "LayoutModel",
          "state": {
            "_view_name": "LayoutView",
            "grid_template_rows": null,
            "right": null,
            "justify_content": null,
            "_view_module": "@jupyter-widgets/base",
            "overflow": null,
            "_model_module_version": "1.2.0",
            "_view_count": null,
            "flex_flow": null,
            "width": null,
            "min_width": null,
            "border": null,
            "align_items": null,
            "bottom": null,
            "_model_module": "@jupyter-widgets/base",
            "top": null,
            "grid_column": null,
            "overflow_y": null,
            "overflow_x": null,
            "grid_auto_flow": null,
            "grid_area": null,
            "grid_template_columns": null,
            "flex": null,
            "_model_name": "LayoutModel",
            "justify_items": null,
            "grid_row": null,
            "max_height": null,
            "align_content": null,
            "visibility": null,
            "align_self": null,
            "height": null,
            "min_height": null,
            "padding": null,
            "grid_auto_rows": null,
            "grid_gap": null,
            "max_width": null,
            "order": null,
            "_view_module_version": "1.2.0",
            "grid_template_areas": null,
            "object_position": null,
            "object_fit": null,
            "grid_auto_columns": null,
            "margin": null,
            "display": null,
            "left": null
          }
        },
        "ea6145cde46d49788d2bcd5ada1408d5": {
          "model_module": "@jupyter-widgets/controls",
          "model_name": "FloatProgressModel",
          "state": {
            "_view_name": "ProgressView",
            "style": "IPY_MODEL_8a50dbb8867346a4a9ace6724c70e85c",
            "_dom_classes": [],
            "description": "Downloading: 100%",
            "_model_name": "FloatProgressModel",
            "bar_style": "success",
            "max": 231508,
            "_view_module": "@jupyter-widgets/controls",
            "_model_module_version": "1.5.0",
            "value": 231508,
            "_view_count": null,
            "_view_module_version": "1.5.0",
            "orientation": "horizontal",
            "min": 0,
            "description_tooltip": null,
            "_model_module": "@jupyter-widgets/controls",
            "layout": "IPY_MODEL_9d874b9ae4694081ac3284680a5fdbab"
          }
        },
        "f6f3516347ee4179a91778f6aba44523": {
          "model_module": "@jupyter-widgets/controls",
          "model_name": "HTMLModel",
          "state": {
            "_view_name": "HTMLView",
            "style": "IPY_MODEL_1c19e0ced23c4900ade06e5d4e08dee0",
            "_dom_classes": [],
            "description": "",
            "_model_name": "HTMLModel",
            "placeholder": "​",
            "_view_module": "@jupyter-widgets/controls",
            "_model_module_version": "1.5.0",
            "value": " 232k/232k [00:00&lt;00:00, 815kB/s]",
            "_view_count": null,
            "_view_module_version": "1.5.0",
            "description_tooltip": null,
            "_model_module": "@jupyter-widgets/controls",
            "layout": "IPY_MODEL_e2842ba0cf834972a23453c005636308"
          }
        },
        "8a50dbb8867346a4a9ace6724c70e85c": {
          "model_module": "@jupyter-widgets/controls",
          "model_name": "ProgressStyleModel",
          "state": {
            "_view_name": "StyleView",
            "_model_name": "ProgressStyleModel",
            "description_width": "initial",
            "_view_module": "@jupyter-widgets/base",
            "_model_module_version": "1.5.0",
            "_view_count": null,
            "_view_module_version": "1.2.0",
            "bar_color": null,
            "_model_module": "@jupyter-widgets/controls"
          }
        },
        "9d874b9ae4694081ac3284680a5fdbab": {
          "model_module": "@jupyter-widgets/base",
          "model_name": "LayoutModel",
          "state": {
            "_view_name": "LayoutView",
            "grid_template_rows": null,
            "right": null,
            "justify_content": null,
            "_view_module": "@jupyter-widgets/base",
            "overflow": null,
            "_model_module_version": "1.2.0",
            "_view_count": null,
            "flex_flow": null,
            "width": null,
            "min_width": null,
            "border": null,
            "align_items": null,
            "bottom": null,
            "_model_module": "@jupyter-widgets/base",
            "top": null,
            "grid_column": null,
            "overflow_y": null,
            "overflow_x": null,
            "grid_auto_flow": null,
            "grid_area": null,
            "grid_template_columns": null,
            "flex": null,
            "_model_name": "LayoutModel",
            "justify_items": null,
            "grid_row": null,
            "max_height": null,
            "align_content": null,
            "visibility": null,
            "align_self": null,
            "height": null,
            "min_height": null,
            "padding": null,
            "grid_auto_rows": null,
            "grid_gap": null,
            "max_width": null,
            "order": null,
            "_view_module_version": "1.2.0",
            "grid_template_areas": null,
            "object_position": null,
            "object_fit": null,
            "grid_auto_columns": null,
            "margin": null,
            "display": null,
            "left": null
          }
        },
        "1c19e0ced23c4900ade06e5d4e08dee0": {
          "model_module": "@jupyter-widgets/controls",
          "model_name": "DescriptionStyleModel",
          "state": {
            "_view_name": "StyleView",
            "_model_name": "DescriptionStyleModel",
            "description_width": "",
            "_view_module": "@jupyter-widgets/base",
            "_model_module_version": "1.5.0",
            "_view_count": null,
            "_view_module_version": "1.2.0",
            "_model_module": "@jupyter-widgets/controls"
          }
        },
        "e2842ba0cf834972a23453c005636308": {
          "model_module": "@jupyter-widgets/base",
          "model_name": "LayoutModel",
          "state": {
            "_view_name": "LayoutView",
            "grid_template_rows": null,
            "right": null,
            "justify_content": null,
            "_view_module": "@jupyter-widgets/base",
            "overflow": null,
            "_model_module_version": "1.2.0",
            "_view_count": null,
            "flex_flow": null,
            "width": null,
            "min_width": null,
            "border": null,
            "align_items": null,
            "bottom": null,
            "_model_module": "@jupyter-widgets/base",
            "top": null,
            "grid_column": null,
            "overflow_y": null,
            "overflow_x": null,
            "grid_auto_flow": null,
            "grid_area": null,
            "grid_template_columns": null,
            "flex": null,
            "_model_name": "LayoutModel",
            "justify_items": null,
            "grid_row": null,
            "max_height": null,
            "align_content": null,
            "visibility": null,
            "align_self": null,
            "height": null,
            "min_height": null,
            "padding": null,
            "grid_auto_rows": null,
            "grid_gap": null,
            "max_width": null,
            "order": null,
            "_view_module_version": "1.2.0",
            "grid_template_areas": null,
            "object_position": null,
            "object_fit": null,
            "grid_auto_columns": null,
            "margin": null,
            "display": null,
            "left": null
          }
        }
      }
    }
  },
  "cells": [
    {
      "cell_type": "markdown",
      "metadata": {
        "id": "Fi3-TMmUluIX"
      },
      "source": [
        "# Fine Tuning Transformer for MultiLabel Text Classification"
      ]
    },
    {
      "cell_type": "markdown",
      "metadata": {
        "id": "N2eXJsO4luIg"
      },
      "source": [
        "###Installation"
      ]
    },
    {
      "cell_type": "code",
      "metadata": {
        "id": "WD_vnyLXZQzD"
      },
      "source": [
        "!pip install -q transformers"
      ],
      "execution_count": null,
      "outputs": []
    },
    {
      "cell_type": "code",
      "metadata": {
        "id": "pzM1_ykHaFur"
      },
      "source": [
        "import numpy as np\n",
        "import pandas as pd\n",
        "from sklearn import metrics\n",
        "import transformers\n",
        "import torch\n",
        "from torch.utils.data import Dataset, DataLoader, RandomSampler, SequentialSampler\n",
        "from transformers import ElectraTokenizer, ElectraModel, ElectraConfig\n",
        "from torch.utils.tensorboard import SummaryWriter"
      ],
      "execution_count": null,
      "outputs": []
    },
    {
      "cell_type": "code",
      "metadata": {
        "id": "NLxxwd1scQNv"
      },
      "source": [
        "from torch import cuda\n",
        "device = 'cuda' if cuda.is_available() else 'cpu'\n",
        "from tqdm import tqdm"
      ],
      "execution_count": null,
      "outputs": []
    },
    {
      "cell_type": "markdown",
      "metadata": {
        "id": "KPCRNVnaluIi"
      },
      "source": [
        "<a id='section02'></a>\n",
        "### Importing and Preprocessing Data\n",
        "\n"
      ]
    },
    {
      "cell_type": "code",
      "metadata": {
        "id": "mZ7lTlkyaG7u",
        "colab": {
          "base_uri": "https://localhost:8080/"
        },
        "outputId": "313dc821-810c-4e69-a6d9-b4aa1827f132"
      },
      "source": [
        "# this mounts your Google Drive to the Colab VM.\n",
        "from google.colab import drive\n",
        "drive.mount('/content/drive', force_remount=True)\n",
        "\n",
        "# enter the foldername in your Drive where you have saved the unzipped\n",
        "# workshop folder, e.g. 'acmlab/workshops/week3'\n",
        "FOLDERNAME = 'Dataset'\n",
        "assert FOLDERNAME is not None, \"[!] Enter the foldername.\"\n",
        "\n",
        "# now that we've mounted your Drive, this ensures that\n",
        "# the Python interpreter of the Colab VM can load\n",
        "# python files from within it.\n",
        "import sys\n",
        "sys.path.append('/content/drive/My Drive/{}'.format(FOLDERNAME))\n",
        "\n",
        "%cd /content/drive/My\\ Drive/$FOLDERNAME/"
      ],
      "execution_count": null,
      "outputs": [
        {
          "output_type": "stream",
          "text": [
            "Mounted at /content/drive\n",
            "/content/drive/.shortcut-targets-by-id/1SGfUxG0kyYK011ICRcr-oyA-4S-p6H01/Dataset\n"
          ],
          "name": "stdout"
        }
      ]
    },
    {
      "cell_type": "code",
      "metadata": {
        "id": "rxQ9TC99nykT",
        "colab": {
          "base_uri": "https://localhost:8080/",
          "height": 204
        },
        "outputId": "e2ecedd5-027d-4e0d-8fcd-8272ea882d9a"
      },
      "source": [
        "df = pd.read_csv('train.csv')\n",
        "new_df = df[['text', 'is_humor']].copy()\n",
        "new_df.head()"
      ],
      "execution_count": null,
      "outputs": [
        {
          "output_type": "execute_result",
          "data": {
            "text/html": [
              "<div>\n",
              "<style scoped>\n",
              "    .dataframe tbody tr th:only-of-type {\n",
              "        vertical-align: middle;\n",
              "    }\n",
              "\n",
              "    .dataframe tbody tr th {\n",
              "        vertical-align: top;\n",
              "    }\n",
              "\n",
              "    .dataframe thead th {\n",
              "        text-align: right;\n",
              "    }\n",
              "</style>\n",
              "<table border=\"1\" class=\"dataframe\">\n",
              "  <thead>\n",
              "    <tr style=\"text-align: right;\">\n",
              "      <th></th>\n",
              "      <th>text</th>\n",
              "      <th>is_humor</th>\n",
              "    </tr>\n",
              "  </thead>\n",
              "  <tbody>\n",
              "    <tr>\n",
              "      <th>0</th>\n",
              "      <td>TENNESSEE: We're the best state. Nobody even c...</td>\n",
              "      <td>1</td>\n",
              "    </tr>\n",
              "    <tr>\n",
              "      <th>1</th>\n",
              "      <td>A man inserted an advertisement in the classif...</td>\n",
              "      <td>1</td>\n",
              "    </tr>\n",
              "    <tr>\n",
              "      <th>2</th>\n",
              "      <td>How many men does it take to open a can of bee...</td>\n",
              "      <td>1</td>\n",
              "    </tr>\n",
              "    <tr>\n",
              "      <th>3</th>\n",
              "      <td>Told my mom I hit 1200 Twitter followers. She ...</td>\n",
              "      <td>1</td>\n",
              "    </tr>\n",
              "    <tr>\n",
              "      <th>4</th>\n",
              "      <td>Roses are dead. Love is fake. Weddings are bas...</td>\n",
              "      <td>1</td>\n",
              "    </tr>\n",
              "  </tbody>\n",
              "</table>\n",
              "</div>"
            ],
            "text/plain": [
              "                                                text  is_humor\n",
              "0  TENNESSEE: We're the best state. Nobody even c...         1\n",
              "1  A man inserted an advertisement in the classif...         1\n",
              "2  How many men does it take to open a can of bee...         1\n",
              "3  Told my mom I hit 1200 Twitter followers. She ...         1\n",
              "4  Roses are dead. Love is fake. Weddings are bas...         1"
            ]
          },
          "metadata": {
            "tags": []
          },
          "execution_count": 5
        }
      ]
    },
    {
      "cell_type": "markdown",
      "metadata": {
        "id": "S5uPPEliluIj"
      },
      "source": [
        "<a id='section03'></a>\n",
        "### Dataset and Dataloader"
      ]
    },
    {
      "cell_type": "code",
      "metadata": {
        "id": "ikfbFlNHgi8T",
        "colab": {
          "base_uri": "https://localhost:8080/",
          "height": 67,
          "referenced_widgets": [
            "6165bb68a45348e9b2a96f4314ea52fd",
            "78d9b21cc06e4ff3b02f057ccc3dd329",
            "ea6145cde46d49788d2bcd5ada1408d5",
            "f6f3516347ee4179a91778f6aba44523",
            "8a50dbb8867346a4a9ace6724c70e85c",
            "9d874b9ae4694081ac3284680a5fdbab",
            "1c19e0ced23c4900ade06e5d4e08dee0",
            "e2842ba0cf834972a23453c005636308"
          ]
        },
        "outputId": "8e3fe50c-d392-4bff-d00f-3a4734f8ee40"
      },
      "source": [
        "# Sections of config\n",
        "\n",
        "# Defining some key variables that will be used later on in the training\n",
        "MAX_LEN = 200\n",
        "TRAIN_BATCH_SIZE = 16\n",
        "VALID_BATCH_SIZE = 4\n",
        "EPOCHS = 1\n",
        "LEARNING_RATE = 1e-05\n",
        "tokenizer = ElectraTokenizer.from_pretrained(\"google/electra-large-discriminator\")"
      ],
      "execution_count": null,
      "outputs": [
        {
          "output_type": "display_data",
          "data": {
            "application/vnd.jupyter.widget-view+json": {
              "model_id": "6165bb68a45348e9b2a96f4314ea52fd",
              "version_minor": 0,
              "version_major": 2
            },
            "text/plain": [
              "HBox(children=(FloatProgress(value=0.0, description='Downloading', max=231508.0, style=ProgressStyle(descripti…"
            ]
          },
          "metadata": {
            "tags": []
          }
        },
        {
          "output_type": "stream",
          "text": [
            "\n"
          ],
          "name": "stdout"
        }
      ]
    },
    {
      "cell_type": "code",
      "metadata": {
        "id": "oFOylAXqiNYK"
      },
      "source": [
        "class CustomDataset(Dataset):\n",
        "\n",
        "    def __init__(self, dataframe, tokenizer, max_len):\n",
        "        self.tokenizer = tokenizer\n",
        "        self.data = dataframe\n",
        "        self.text = dataframe.text\n",
        "        self.targets = self.data.is_humor\n",
        "        self.max_len = max_len\n",
        "\n",
        "    def __len__(self):\n",
        "        return len(self.text)\n",
        "\n",
        "    def __getitem__(self, index):\n",
        "        text = str(self.text[index])\n",
        "        text = \" \".join(text.split())\n",
        "\n",
        "        inputs = self.tokenizer.encode_plus(\n",
        "            text,\n",
        "            None,\n",
        "            add_special_tokens=True,\n",
        "            max_length=self.max_len,\n",
        "            pad_to_max_length=True,\n",
        "            return_token_type_ids=True\n",
        "        )\n",
        "        ids = inputs['input_ids']\n",
        "        mask = inputs['attention_mask']\n",
        "        token_type_ids = inputs[\"token_type_ids\"]\n",
        "\n",
        "\n",
        "        return {\n",
        "            'ids': torch.tensor(ids, dtype=torch.long),\n",
        "            'mask': torch.tensor(mask, dtype=torch.long),\n",
        "            'token_type_ids': torch.tensor(token_type_ids, dtype=torch.long),\n",
        "            'targets': torch.tensor(self.targets[index], dtype=torch.float)\n",
        "        }"
      ],
      "execution_count": null,
      "outputs": []
    },
    {
      "cell_type": "code",
      "metadata": {
        "id": "PkDGqarcPowL",
        "colab": {
          "base_uri": "https://localhost:8080/"
        },
        "outputId": "37a2bff4-543b-45f4-f971-2496ac732519"
      },
      "source": [
        "# Creating the dataset and dataloader for the neural network\n",
        "\n",
        "train_size = 0.8\n",
        "train_dataset=new_df.sample(frac=train_size,random_state=200)\n",
        "test_dataset=new_df.drop(train_dataset.index).reset_index(drop=True)\n",
        "train_dataset = train_dataset.reset_index(drop=True)\n",
        "\n",
        "\n",
        "print(\"FULL Dataset: {}\".format(new_df.shape))\n",
        "print(\"TRAIN Dataset: {}\".format(train_dataset.shape))\n",
        "print(\"TEST Dataset: {}\".format(test_dataset.shape))\n",
        "\n",
        "training_set = CustomDataset(train_dataset, tokenizer, MAX_LEN)\n",
        "testing_set = CustomDataset(test_dataset, tokenizer, MAX_LEN)"
      ],
      "execution_count": null,
      "outputs": [
        {
          "output_type": "stream",
          "text": [
            "FULL Dataset: (8000, 2)\n",
            "TRAIN Dataset: (6400, 2)\n",
            "TEST Dataset: (1600, 2)\n"
          ],
          "name": "stdout"
        }
      ]
    },
    {
      "cell_type": "code",
      "metadata": {
        "id": "vLpilV73QrXJ"
      },
      "source": [
        "train_params = {'batch_size': TRAIN_BATCH_SIZE,\n",
        "                'shuffle': True,\n",
        "                'num_workers': 0\n",
        "                }\n",
        "\n",
        "test_params = {'batch_size': VALID_BATCH_SIZE,\n",
        "                'shuffle': True,\n",
        "                'num_workers': 0\n",
        "                }\n",
        "\n",
        "training_loader = DataLoader(training_set, **train_params)\n",
        "testing_loader = DataLoader(testing_set, **test_params)"
      ],
      "execution_count": null,
      "outputs": []
    },
    {
      "cell_type": "markdown",
      "metadata": {
        "id": "WYge-rwIluIn"
      },
      "source": [
        "<a id='section04'></a>\n",
        "### Fine-Tuning Neural Network"
      ]
    },
    {
      "cell_type": "code",
      "metadata": {
        "id": "DegHNyIEQxB2"
      },
      "source": [
        "# Creating the customized model, by adding a drop out and a dense layer on top of ELECTRA to get the final output for the model. \n",
        "\n",
        "class ELECTRAClass(torch.nn.Module):\n",
        "    def __init__(self):\n",
        "        super(ELECTRAClass, self).__init__()\n",
        "        self.l1 = transformers.ElectraModel.from_pretrained(\"google/electra-large-discriminator\")\n",
        "        self.l2 = torch.nn.Dropout(0.3)\n",
        "        self.l3 = torch.nn.Linear(1024, 1)\n",
        "    \n",
        "    def forward(self, ids, mask, token_type_ids):\n",
        "        output_1 = self.l1(ids, attention_mask = mask, token_type_ids = token_type_ids, return_dict=True)['last_hidden_state'].mean(dim=1)\n",
        "        #print(output_1.shape)\n",
        "        output_2 = self.l2(output_1)\n",
        "        output = self.l3(output_2)\n",
        "        return output\n",
        "\n",
        "weight_seed = 200\n",
        "torch.manual_seed(weight_seed)\n",
        "model = ELECTRAClass()\n",
        "model.to(device)"
      ],
      "execution_count": null,
      "outputs": []
    },
    {
      "cell_type": "code",
      "metadata": {
        "id": "7KnNeQx6SI78"
      },
      "source": [
        "loss_fn = torch.nn.BCEWithLogitsLoss()"
      ],
      "execution_count": null,
      "outputs": []
    },
    {
      "cell_type": "code",
      "metadata": {
        "id": "gUD8j0c7WsA-",
        "colab": {
          "base_uri": "https://localhost:8080/",
          "height": 161
        },
        "outputId": "82975de7-e816-4cb7-f673-36818a0ee76f"
      },
      "source": [
        "optimizer = torch.optim.Adam(params=model.parameters(), lr=LEARNING_RATE)"
      ],
      "execution_count": 1,
      "outputs": [
        {
          "output_type": "error",
          "ename": "NameError",
          "evalue": "ignored",
          "traceback": [
            "\u001b[0;31m---------------------------------------------------------------------------\u001b[0m",
            "\u001b[0;31mNameError\u001b[0m                                 Traceback (most recent call last)",
            "\u001b[0;32m<ipython-input-1-fef6b78785af>\u001b[0m in \u001b[0;36m<module>\u001b[0;34m()\u001b[0m\n\u001b[0;32m----> 1\u001b[0;31m \u001b[0moptimizer\u001b[0m \u001b[0;34m=\u001b[0m \u001b[0mtorch\u001b[0m\u001b[0;34m.\u001b[0m\u001b[0moptim\u001b[0m\u001b[0;34m.\u001b[0m\u001b[0mAdam\u001b[0m\u001b[0;34m(\u001b[0m\u001b[0mparams\u001b[0m\u001b[0;34m=\u001b[0m\u001b[0mmodel\u001b[0m\u001b[0;34m.\u001b[0m\u001b[0mparameters\u001b[0m\u001b[0;34m(\u001b[0m\u001b[0;34m)\u001b[0m\u001b[0;34m,\u001b[0m \u001b[0mlr\u001b[0m\u001b[0;34m=\u001b[0m\u001b[0mLEARNING_RATE\u001b[0m\u001b[0;34m)\u001b[0m\u001b[0;34m\u001b[0m\u001b[0;34m\u001b[0m\u001b[0m\n\u001b[0m",
            "\u001b[0;31mNameError\u001b[0m: name 'torch' is not defined"
          ]
        }
      ]
    },
    {
      "cell_type": "code",
      "metadata": {
        "id": "G-mmcOgY5wVe"
      },
      "source": [
        "writer = SummaryWriter(log_dir='/runs/N')"
      ],
      "execution_count": null,
      "outputs": []
    },
    {
      "cell_type": "code",
      "metadata": {
        "id": "Fzv8cMPIAJO6"
      },
      "source": [
        "def validation(epoch):\n",
        "    model.eval()\n",
        "    fin_targets=[]\n",
        "    fin_outputs=[]\n",
        "    with torch.no_grad():\n",
        "        for _, data in enumerate(testing_loader, 0):\n",
        "            ids = data['ids'].to(device, dtype = torch.long)\n",
        "            mask = data['mask'].to(device, dtype = torch.long)\n",
        "            token_type_ids = data['token_type_ids'].to(device, dtype = torch.long)\n",
        "            targets = data['targets'].to(device, dtype = torch.float)\n",
        "            outputs = model(ids, mask, token_type_ids)\n",
        "           # print(targets, outputs)\n",
        "            fin_targets.extend(targets.cpu().detach().numpy().tolist())\n",
        "            fin_outputs.extend(torch.sigmoid(outputs).cpu().detach().numpy().tolist())\n",
        "    return fin_outputs, fin_targets"
      ],
      "execution_count": null,
      "outputs": []
    },
    {
      "cell_type": "code",
      "metadata": {
        "id": "1KybklODALU8"
      },
      "source": [
        "def perform_validation(epoch):\n",
        "    outputs, targets = validation(epoch)\n",
        "    outputs = np.array(outputs) >= 0.5\n",
        "    targets = np.array(targets).reshape(-1, 1)\n",
        "    accuracy = metrics.accuracy_score(targets, outputs)\n",
        "    f1_score_micro = metrics.f1_score(targets, outputs, average='micro')\n",
        "    f1_score_macro = metrics.f1_score(targets, outputs, average='macro')\n",
        "    outputs_tensor = torch.FloatTensor(outputs)\n",
        "    targets_tensor = torch.FloatTensor(targets)\n",
        "    loss = loss_fn(outputs_tensor, targets_tensor)\n",
        "    print()\n",
        "    print(f\"Val loss = {loss}\")\n",
        "    print(f\"Val accuracy Score = {accuracy}\")\n",
        "    print(f\"Val F1 Score (Micro) = {f1_score_micro}\")\n",
        "    print(f\"Val F1 Score (Macro) = {f1_score_macro}\")\n",
        "    writer.add_scalar(\"Val loss\", loss, epoch)\n",
        "    writer.add_scalar(\"Val accuracy\", accuracy, epoch)\n",
        "    writer.add_scalar(\"Val F1 (micro)\", f1_score_micro, epoch)\n",
        "    writer.add_scalar(\"Val F2 (macro)\", f1_score_macro, epoch)"
      ],
      "execution_count": null,
      "outputs": []
    },
    {
      "cell_type": "code",
      "metadata": {
        "id": "voYFr5pTfRJ_"
      },
      "source": [
        "newest_df = test_dataset.copy(deep=True)"
      ],
      "execution_count": null,
      "outputs": []
    },
    {
      "cell_type": "code",
      "metadata": {
        "id": "ZHfUJrGjEdip"
      },
      "source": [
        "def validation_and_save(epoch):\n",
        "    model.eval()\n",
        "    fin_targets=[]\n",
        "    fin_outputs=[]\n",
        "    with torch.no_grad():\n",
        "        for _, data in enumerate(testing_loader, 0):\n",
        "            ids = data['ids'].to(device, dtype = torch.long)\n",
        "            mask = data['mask'].to(device, dtype = torch.long)\n",
        "            token_type_ids = data['token_type_ids'].to(device, dtype = torch.long)\n",
        "            targets = data['targets'].to(device, dtype = torch.float)\n",
        "            outputs = model(ids, mask, token_type_ids)\n",
        "            fin_targets.extend(targets.cpu().detach().numpy().tolist())\n",
        "            fin_outputs.extend(torch.sigmoid(outputs).cpu().detach().numpy().tolist())\n",
        "\n",
        "    fin_outputs = (np.array(fin_outputs) >= 0.5).astype(int)\n",
        "    newest_df.insert(loc=epoch+2, column=f'predictions-{epoch+1}', value=fin_outputs)\n",
        "    newest_df.to_csv(f'predictions-{weight_seed}-epoch{epoch+1}.csv')\n",
        "\n"
      ],
      "execution_count": null,
      "outputs": []
    },
    {
      "cell_type": "code",
      "metadata": {
        "id": "B9_DjWmfWx1q"
      },
      "source": [
        "def train(epoch):\n",
        "    model.train()\n",
        "    losses = []\n",
        "    for _,data in tqdm(enumerate(training_loader, 0), total=len(training_loader)):\n",
        "        ids = data['ids'].to(device, dtype = torch.long)\n",
        "        mask = data['mask'].to(device, dtype = torch.long)\n",
        "        token_type_ids = data['token_type_ids'].to(device, dtype = torch.long)\n",
        "        targets = data['targets'].to(device, dtype = torch.float)\n",
        "        outputs = model(ids, mask, token_type_ids)\n",
        "\n",
        "        optimizer.zero_grad()\n",
        "        loss = loss_fn(outputs.squeeze(), targets.squeeze())\n",
        "        losses.append(loss.detach())\n",
        "        if _ % 25 == 0:\n",
        "            writer.add_scalar(\"Loss/train\", losses[-1], float(_ % 5000) + float(epoch))\n",
        "        if len(losses) == 50:\n",
        "            print(f'Epoch: {epoch}, Loss:  {torch.mean(torch.stack(losses))}')\n",
        "            perform_validation(epoch)\n",
        "            print()\n",
        "            losses.clear()\n",
        "        \n",
        "        optimizer.zero_grad()\n",
        "        loss.backward()\n",
        "        optimizer.step()"
      ],
      "execution_count": null,
      "outputs": []
    },
    {
      "cell_type": "code",
      "metadata": {
        "colab": {
          "base_uri": "https://localhost:8080/"
        },
        "id": "D4Yl7gXHYSRU",
        "outputId": "c0b6b4ef-a759-4706-e926-e1b9f379b0f1"
      },
      "source": [
        "EPOCHS = 3                      # changed from 5\n",
        "for epoch in range(EPOCHS):\n",
        "    train(epoch)\n",
        "    perform_validation(epoch)"
      ],
      "execution_count": null,
      "outputs": [
        {
          "output_type": "stream",
          "text": [
            "\r  0%|          | 0/400 [00:00<?, ?it/s]Truncation was not explicitly activated but `max_length` is provided a specific value, please use `truncation=True` to explicitly truncate examples to max length. Defaulting to 'longest_first' truncation strategy. If you encode pairs of sequences (GLUE-style) with the tokenizer you can select this strategy more precisely by providing a specific strategy to `truncation`.\n",
            "/usr/local/lib/python3.6/dist-packages/transformers/tokenization_utils_base.py:2143: FutureWarning: The `pad_to_max_length` argument is deprecated and will be removed in a future version, use `padding=True` or `padding='longest'` to pad to the longest sequence in the batch, or use `padding='max_length'` to pad to a max length. In this case, you can give a specific length with `max_length` (e.g. `max_length=45`) or leave max_length to None to pad to the maximal input size of the model (e.g. 512 for Bert).\n",
            "  FutureWarning,\n",
            " 12%|█▏        | 49/400 [01:43<11:52,  2.03s/it]"
          ],
          "name": "stderr"
        },
        {
          "output_type": "stream",
          "text": [
            "Epoch: 0, Loss:  0.6145930886268616\n",
            "\n",
            "Val loss = 0.5574231147766113\n",
            "Val accuracy Score = 0.82875\n",
            "Val F1 Score (Micro) = 0.82875\n",
            "Val F1 Score (Macro) = 0.7961309523809523\n",
            "\n"
          ],
          "name": "stdout"
        },
        {
          "output_type": "stream",
          "text": [
            " 25%|██▍       | 99/400 [04:42<10:07,  2.02s/it]"
          ],
          "name": "stderr"
        },
        {
          "output_type": "stream",
          "text": [
            "Epoch: 0, Loss:  0.3226768374443054\n",
            "\n",
            "Val loss = 0.49711886048316956\n",
            "Val accuracy Score = 0.914375\n",
            "Val F1 Score (Micro) = 0.914375\n",
            "Val F1 Score (Macro) = 0.9084511836401596\n",
            "\n"
          ],
          "name": "stdout"
        },
        {
          "output_type": "stream",
          "text": [
            " 37%|███▋      | 149/400 [07:39<08:20,  1.99s/it]"
          ],
          "name": "stderr"
        },
        {
          "output_type": "stream",
          "text": [
            "Epoch: 0, Loss:  0.32085689902305603\n",
            "\n",
            "Val loss = 0.4953031539916992\n",
            "Val accuracy Score = 0.91125\n",
            "Val F1 Score (Micro) = 0.91125\n",
            "Val F1 Score (Macro) = 0.9064618708613907\n",
            "\n"
          ],
          "name": "stdout"
        },
        {
          "output_type": "stream",
          "text": [
            " 50%|████▉     | 199/400 [10:36<06:42,  2.00s/it]"
          ],
          "name": "stderr"
        },
        {
          "output_type": "stream",
          "text": [
            "Epoch: 0, Loss:  0.16446471214294434\n",
            "\n",
            "Val loss = 0.4943850040435791\n",
            "Val accuracy Score = 0.9275\n",
            "Val F1 Score (Micro) = 0.9275\n",
            "Val F1 Score (Macro) = 0.9210292072796094\n",
            "\n"
          ],
          "name": "stdout"
        },
        {
          "output_type": "stream",
          "text": [
            " 62%|██████▏   | 249/400 [13:34<05:01,  2.00s/it]"
          ],
          "name": "stderr"
        },
        {
          "output_type": "stream",
          "text": [
            "Epoch: 0, Loss:  0.18114927411079407\n",
            "\n",
            "Val loss = 0.48425570130348206\n",
            "Val accuracy Score = 0.93875\n",
            "Val F1 Score (Micro) = 0.93875\n",
            "Val F1 Score (Macro) = 0.9347100844605005\n",
            "\n"
          ],
          "name": "stdout"
        },
        {
          "output_type": "stream",
          "text": [
            " 75%|███████▍  | 299/400 [16:30<03:21,  2.00s/it]"
          ],
          "name": "stderr"
        },
        {
          "output_type": "stream",
          "text": [
            "Epoch: 0, Loss:  0.10156091302633286\n",
            "\n",
            "Val loss = 0.4806418716907501\n",
            "Val accuracy Score = 0.943125\n",
            "Val F1 Score (Micro) = 0.943125\n",
            "Val F1 Score (Macro) = 0.939744052932532\n",
            "\n"
          ],
          "name": "stdout"
        },
        {
          "output_type": "stream",
          "text": [
            " 87%|████████▋ | 349/400 [19:27<01:41,  1.99s/it]"
          ],
          "name": "stderr"
        },
        {
          "output_type": "stream",
          "text": [
            "Epoch: 0, Loss:  0.18713584542274475\n",
            "\n",
            "Val loss = 0.4836447238922119\n",
            "Val accuracy Score = 0.943125\n",
            "Val F1 Score (Micro) = 0.943125\n",
            "Val F1 Score (Macro) = 0.9389374188226245\n",
            "\n"
          ],
          "name": "stdout"
        },
        {
          "output_type": "stream",
          "text": [
            "100%|█████████▉| 399/400 [22:24<00:01,  1.99s/it]"
          ],
          "name": "stderr"
        },
        {
          "output_type": "stream",
          "text": [
            "Epoch: 0, Loss:  0.15710750222206116\n",
            "\n",
            "Val loss = 0.48234230279922485\n",
            "Val accuracy Score = 0.940625\n",
            "Val F1 Score (Micro) = 0.940625\n",
            "Val F1 Score (Macro) = 0.9369758787614931\n",
            "\n"
          ],
          "name": "stdout"
        },
        {
          "output_type": "stream",
          "text": [
            "100%|██████████| 400/400 [23:43<00:00,  3.56s/it]\n",
            "  0%|          | 0/400 [00:00<?, ?it/s]"
          ],
          "name": "stderr"
        },
        {
          "output_type": "stream",
          "text": [
            "\n",
            "Val loss = 0.48111671209335327\n",
            "Val accuracy Score = 0.941875\n",
            "Val F1 Score (Micro) = 0.941875\n",
            "Val F1 Score (Macro) = 0.9384582552170897\n"
          ],
          "name": "stdout"
        },
        {
          "output_type": "stream",
          "text": [
            " 12%|█▏        | 49/400 [01:40<12:00,  2.05s/it]"
          ],
          "name": "stderr"
        },
        {
          "output_type": "stream",
          "text": [
            "Epoch: 1, Loss:  0.08860156685113907\n",
            "\n",
            "Val loss = 0.4836306869983673\n",
            "Val accuracy Score = 0.94\n",
            "Val F1 Score (Micro) = 0.94\n",
            "Val F1 Score (Macro) = 0.9360425317164086\n",
            "\n"
          ],
          "name": "stdout"
        },
        {
          "output_type": "stream",
          "text": [
            " 25%|██▍       | 99/400 [04:37<09:59,  1.99s/it]"
          ],
          "name": "stderr"
        },
        {
          "output_type": "stream",
          "text": [
            "Epoch: 1, Loss:  0.06983064115047455\n",
            "\n",
            "Val loss = 0.4793185293674469\n",
            "Val accuracy Score = 0.949375\n",
            "Val F1 Score (Micro) = 0.949375\n",
            "Val F1 Score (Macro) = 0.9459457430395759\n",
            "\n"
          ],
          "name": "stdout"
        },
        {
          "output_type": "stream",
          "text": [
            " 37%|███▋      | 149/400 [07:33<08:20,  1.99s/it]"
          ],
          "name": "stderr"
        },
        {
          "output_type": "stream",
          "text": [
            "Epoch: 1, Loss:  0.061483535915613174\n",
            "\n",
            "Val loss = 0.4786795675754547\n",
            "Val accuracy Score = 0.9475\n",
            "Val F1 Score (Micro) = 0.9475\n",
            "Val F1 Score (Macro) = 0.944326524931278\n",
            "\n"
          ],
          "name": "stdout"
        },
        {
          "output_type": "stream",
          "text": [
            " 50%|████▉     | 199/400 [10:29<06:38,  1.98s/it]"
          ],
          "name": "stderr"
        },
        {
          "output_type": "stream",
          "text": [
            "Epoch: 1, Loss:  0.07690698653459549\n",
            "\n",
            "Val loss = 0.4808932840824127\n",
            "Val accuracy Score = 0.945625\n",
            "Val F1 Score (Micro) = 0.945625\n",
            "Val F1 Score (Macro) = 0.9420193027404626\n",
            "\n"
          ],
          "name": "stdout"
        },
        {
          "output_type": "stream",
          "text": [
            " 62%|██████▏   | 249/400 [13:26<05:00,  1.99s/it]"
          ],
          "name": "stderr"
        },
        {
          "output_type": "stream",
          "text": [
            "Epoch: 1, Loss:  0.09924348443746567\n",
            "\n",
            "Val loss = 0.5001881718635559\n",
            "Val accuracy Score = 0.9225\n",
            "Val F1 Score (Micro) = 0.9225\n",
            "Val F1 Score (Macro) = 0.9140379792685949\n",
            "\n"
          ],
          "name": "stdout"
        },
        {
          "output_type": "stream",
          "text": [
            " 75%|███████▍  | 299/400 [16:22<03:20,  1.99s/it]"
          ],
          "name": "stderr"
        },
        {
          "output_type": "stream",
          "text": [
            "Epoch: 1, Loss:  0.05529293790459633\n",
            "\n",
            "Val loss = 0.47720611095428467\n",
            "Val accuracy Score = 0.95375\n",
            "Val F1 Score (Micro) = 0.95375\n",
            "Val F1 Score (Macro) = 0.9506004712982064\n",
            "\n"
          ],
          "name": "stdout"
        },
        {
          "output_type": "stream",
          "text": [
            " 87%|████████▋ | 349/400 [19:18<01:41,  1.99s/it]"
          ],
          "name": "stderr"
        },
        {
          "output_type": "stream",
          "text": [
            "Epoch: 1, Loss:  0.055209722369909286\n",
            "\n",
            "Val loss = 0.4917489290237427\n",
            "Val accuracy Score = 0.935625\n",
            "Val F1 Score (Micro) = 0.935625\n",
            "Val F1 Score (Macro) = 0.9293453166191563\n",
            "\n"
          ],
          "name": "stdout"
        },
        {
          "output_type": "stream",
          "text": [
            "100%|█████████▉| 399/400 [22:15<00:01,  1.99s/it]"
          ],
          "name": "stderr"
        },
        {
          "output_type": "stream",
          "text": [
            "Epoch: 1, Loss:  0.04853200167417526\n",
            "\n",
            "Val loss = 0.48488426208496094\n",
            "Val accuracy Score = 0.945\n",
            "Val F1 Score (Micro) = 0.945\n",
            "Val F1 Score (Macro) = 0.9403211805555555\n",
            "\n"
          ],
          "name": "stdout"
        },
        {
          "output_type": "stream",
          "text": [
            "100%|██████████| 400/400 [23:33<00:00,  3.53s/it]\n",
            "  0%|          | 0/400 [00:00<?, ?it/s]"
          ],
          "name": "stderr"
        },
        {
          "output_type": "stream",
          "text": [
            "\n",
            "Val loss = 0.48557212948799133\n",
            "Val accuracy Score = 0.944375\n",
            "Val F1 Score (Micro) = 0.944375\n",
            "Val F1 Score (Macro) = 0.9395275419347193\n"
          ],
          "name": "stdout"
        },
        {
          "output_type": "stream",
          "text": [
            " 12%|█▏        | 49/400 [01:40<12:01,  2.06s/it]"
          ],
          "name": "stderr"
        },
        {
          "output_type": "stream",
          "text": [
            "Epoch: 2, Loss:  0.20326682925224304\n",
            "\n",
            "Val loss = 0.5352197289466858\n",
            "Val accuracy Score = 0.86625\n",
            "Val F1 Score (Micro) = 0.86625\n",
            "Val F1 Score (Macro) = 0.8448687999623046\n",
            "\n"
          ],
          "name": "stdout"
        },
        {
          "output_type": "stream",
          "text": [
            " 25%|██▍       | 99/400 [04:37<10:01,  2.00s/it]"
          ],
          "name": "stderr"
        },
        {
          "output_type": "stream",
          "text": [
            "Epoch: 2, Loss:  0.0912720113992691\n",
            "\n",
            "Val loss = 0.47981780767440796\n",
            "Val accuracy Score = 0.946875\n",
            "Val F1 Score (Micro) = 0.946875\n",
            "Val F1 Score (Macro) = 0.9434640961675723\n",
            "\n"
          ],
          "name": "stdout"
        },
        {
          "output_type": "stream",
          "text": [
            " 37%|███▋      | 149/400 [07:34<08:24,  2.01s/it]"
          ],
          "name": "stderr"
        },
        {
          "output_type": "stream",
          "text": [
            "Epoch: 2, Loss:  0.0233850609511137\n",
            "\n",
            "Val loss = 0.48105743527412415\n",
            "Val accuracy Score = 0.94875\n",
            "Val F1 Score (Micro) = 0.94875\n",
            "Val F1 Score (Macro) = 0.9449182926685912\n",
            "\n"
          ],
          "name": "stdout"
        },
        {
          "output_type": "stream",
          "text": [
            " 50%|████▉     | 199/400 [10:32<06:44,  2.01s/it]"
          ],
          "name": "stderr"
        },
        {
          "output_type": "stream",
          "text": [
            "Epoch: 2, Loss:  0.07334630936384201\n",
            "\n",
            "Val loss = 0.4807187020778656\n",
            "Val accuracy Score = 0.946875\n",
            "Val F1 Score (Micro) = 0.946875\n",
            "Val F1 Score (Macro) = 0.9432381389622178\n",
            "\n"
          ],
          "name": "stdout"
        },
        {
          "output_type": "stream",
          "text": [
            " 62%|██████▏   | 249/400 [13:30<05:02,  2.00s/it]"
          ],
          "name": "stderr"
        },
        {
          "output_type": "stream",
          "text": [
            "Epoch: 2, Loss:  0.03414641320705414\n",
            "\n",
            "Val loss = 0.4804288148880005\n",
            "Val accuracy Score = 0.9425\n",
            "Val F1 Score (Micro) = 0.9425\n",
            "Val F1 Score (Macro) = 0.9392141446042642\n",
            "\n"
          ],
          "name": "stdout"
        },
        {
          "output_type": "stream",
          "text": [
            " 75%|███████▍  | 299/400 [16:27<03:22,  2.01s/it]"
          ],
          "name": "stderr"
        },
        {
          "output_type": "stream",
          "text": [
            "Epoch: 2, Loss:  0.03305930644273758\n",
            "\n",
            "Val loss = 0.47884368896484375\n",
            "Val accuracy Score = 0.950625\n",
            "Val F1 Score (Micro) = 0.950625\n",
            "Val F1 Score (Macro) = 0.9472448585648849\n",
            "\n"
          ],
          "name": "stdout"
        },
        {
          "output_type": "stream",
          "text": [
            " 87%|████████▋ | 349/400 [19:26<01:42,  2.02s/it]"
          ],
          "name": "stderr"
        },
        {
          "output_type": "stream",
          "text": [
            "Epoch: 2, Loss:  0.03075265884399414\n",
            "\n",
            "Val loss = 0.4769163131713867\n",
            "Val accuracy Score = 0.949375\n",
            "Val F1 Score (Micro) = 0.949375\n",
            "Val F1 Score (Macro) = 0.9464984339645774\n",
            "\n"
          ],
          "name": "stdout"
        },
        {
          "output_type": "stream",
          "text": [
            "100%|█████████▉| 399/400 [22:25<00:02,  2.02s/it]"
          ],
          "name": "stderr"
        },
        {
          "output_type": "stream",
          "text": [
            "Epoch: 2, Loss:  0.03763146325945854\n",
            "\n",
            "Val loss = 0.47963282465934753\n",
            "Val accuracy Score = 0.9525\n",
            "Val F1 Score (Micro) = 0.9525\n",
            "Val F1 Score (Macro) = 0.9488391192250474\n",
            "\n"
          ],
          "name": "stdout"
        },
        {
          "output_type": "stream",
          "text": [
            "100%|██████████| 400/400 [23:45<00:00,  3.56s/it]\n"
          ],
          "name": "stderr"
        },
        {
          "output_type": "stream",
          "text": [
            "\n",
            "Val loss = 0.4779323935508728\n",
            "Val accuracy Score = 0.955\n",
            "Val F1 Score (Micro) = 0.955\n",
            "Val F1 Score (Macro) = 0.9516355740504703\n"
          ],
          "name": "stdout"
        }
      ]
    },
    {
      "cell_type": "code",
      "metadata": {
        "id": "HHOghQF-39-u"
      },
      "source": [
        "torch.save(model.state_dict(), \"300-jan-30-humor-classification.pt\")"
      ],
      "execution_count": null,
      "outputs": []
    }
  ]
}